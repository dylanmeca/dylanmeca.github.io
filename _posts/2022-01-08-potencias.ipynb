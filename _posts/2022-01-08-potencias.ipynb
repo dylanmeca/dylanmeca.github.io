{
 "cells": [
  {
   "cell_type": "markdown",
   "id": "0c4ea2ad-80d7-41c5-bfa8-00a14ec2742d",
   "metadata": {},
   "source": [
    "# Numeros Enteros en Potencias\n",
    "\n",
    "Al usar numeros negativos en potencias es probable que al usar un numero impar con numeros negativos, el resultado salga negativo. \n",
    "\n",
    "(-3)³ = -3*-3*-3 = -27\n",
    "\n",
    "En cambio si el numero es par no ocurre ningun problema y el resultado sale positivo:\n",
    "\n",
    "(-3)² = -3*-3 = 9\n",
    "\n",
    "Ejemplos:"
   ]
  },
  {
   "cell_type": "markdown",
   "id": "04df4d42-640a-4b88-aa1c-25e4a67e15fe",
   "metadata": {},
   "source": [
    "## Numeros Pares"
   ]
  },
  {
   "cell_type": "code",
   "execution_count": 16,
   "id": "b61c1b97-d9d2-4425-97e2-e957f6777e21",
   "metadata": {},
   "outputs": [
    {
     "name": "stdout",
     "output_type": "stream",
     "text": [
      "ans = 9\n"
     ]
    }
   ],
   "source": [
    "(-3)^2"
   ]
  },
  {
   "cell_type": "code",
   "execution_count": 17,
   "id": "f6be3dda-0938-41b9-a058-be986fce7701",
   "metadata": {},
   "outputs": [
    {
     "name": "stdout",
     "output_type": "stream",
     "text": [
      "ans = 9\n"
     ]
    }
   ],
   "source": [
    "-3*-3"
   ]
  },
  {
   "cell_type": "markdown",
   "id": "8717774c-b7ae-4d53-910d-aa5a36554ea5",
   "metadata": {},
   "source": [
    "## Numeros Impares"
   ]
  },
  {
   "cell_type": "code",
   "execution_count": 18,
   "id": "a79b39c9-b070-4f81-b20e-33585b946575",
   "metadata": {},
   "outputs": [
    {
     "name": "stdout",
     "output_type": "stream",
     "text": [
      "ans = -27\n"
     ]
    }
   ],
   "source": [
    "(-3)^3"
   ]
  },
  {
   "cell_type": "code",
   "execution_count": 21,
   "id": "d413f691-6e70-4504-87fe-314a9df478a8",
   "metadata": {},
   "outputs": [
    {
     "name": "stdout",
     "output_type": "stream",
     "text": [
      "ans = -27\n"
     ]
    }
   ],
   "source": [
    "-3*-3*-3"
   ]
  },
  {
   "cell_type": "code",
   "execution_count": null,
   "id": "f63cbc6c-0f8f-4ae8-80c8-f731fd22ec5a",
   "metadata": {},
   "outputs": [],
   "source": []
  }
 ],
 "metadata": {
  "kernelspec": {
   "display_name": "Octave",
   "language": "octave",
   "name": "octave"
  },
  "language_info": {
   "file_extension": ".m",
   "help_links": [
    {
     "text": "GNU Octave",
     "url": "https://www.gnu.org/software/octave/support.html"
    },
    {
     "text": "Octave Kernel",
     "url": "https://github.com/Calysto/octave_kernel"
    },
    {
     "text": "MetaKernel Magics",
     "url": "https://metakernel.readthedocs.io/en/latest/source/README.html"
    }
   ],
   "mimetype": "text/x-octave",
   "name": "octave",
   "version": "6.2.0"
  }
 },
 "nbformat": 4,
 "nbformat_minor": 5
}
